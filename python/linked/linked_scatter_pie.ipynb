{
 "cells": [
  {
   "cell_type": "code",
   "execution_count": 1,
   "metadata": {},
   "outputs": [
    {
     "data": {
      "text/plain": [
       "DataTransformerRegistry.enable('json')"
      ]
     },
     "execution_count": 1,
     "metadata": {},
     "output_type": "execute_result"
    }
   ],
   "source": [
    "import pandas as pd\n",
    "import json\n",
    "import geopandas as gpd\n",
    "from shapely.geometry import Point\n",
    "import altair as alt\n",
    "\n",
    "alt.data_transformers.enable('json')"
   ]
  },
  {
   "cell_type": "code",
   "execution_count": 2,
   "metadata": {},
   "outputs": [],
   "source": [
    "geojson_path = \"Communities-Chicago.geojson\"\n",
    "with open(geojson_path, 'r') as f:\n",
    "    communities_geojson = json.load(f)"
   ]
  },
  {
   "cell_type": "code",
   "execution_count": 3,
   "metadata": {},
   "outputs": [
    {
     "name": "stdout",
     "output_type": "stream",
     "text": [
      "                               COMPLAINT TYPE  COMPLAINT YEAR   LATITUDE  \\\n",
      "0                             noise complaint            1994  41.882436   \n",
      "1                    air pollution work order            2008  41.882841   \n",
      "2                             noise complaint            1996  41.883306   \n",
      "3                    air pollution work order            1996  41.883341   \n",
      "4                    air pollution work order            1995  41.909701   \n",
      "5   service stations/storage tanks work order            2000  41.979658   \n",
      "6                    air pollution work order            1995  41.868770   \n",
      "7                    air pollution work order            1994  41.741261   \n",
      "8                  illegal dumping work order            2000  41.709820   \n",
      "9                         asbestos work order            1995  41.869520   \n",
      "10                                      other            1993  41.707960   \n",
      "11                            noise complaint            1993  41.705268   \n",
      "12                   air pollution work order            2003  41.901277   \n",
      "13                 illegal dumping work order            2010  41.932523   \n",
      "14                 illegal dumping work order            2000  41.700999   \n",
      "\n",
      "    LONGITUDE area_num_1 INSPECTOR  \n",
      "0  -87.626829         32        25  \n",
      "1  -87.662404         28       110  \n",
      "2  -87.627969         32        25  \n",
      "3  -87.652663         28        25  \n",
      "4  -87.653183          8        16  \n",
      "5  -87.897582         76        19  \n",
      "6  -87.683961         28        25  \n",
      "7  -87.627126         44        18  \n",
      "8  -87.650281         73        55  \n",
      "9  -87.626366         32        13  \n",
      "10 -87.552888         51        24  \n",
      "11 -87.654555         73        18  \n",
      "12 -87.672703         24       101  \n",
      "13 -87.655901          7       120  \n",
      "14 -87.620930         49        56  \n"
     ]
    },
    {
     "name": "stderr",
     "output_type": "stream",
     "text": [
      "C:\\Users\\Arka\\AppData\\Local\\Packages\\PythonSoftwareFoundation.Python.3.11_qbz5n2kfra8p0\\LocalCache\\local-packages\\Python311\\site-packages\\IPython\\core\\interactiveshell.py:3466: FutureWarning: The `op` parameter is deprecated and will be removed in a future release. Please use the `predicate` parameter instead.\n",
      "  if await self.run_code(code, result, async_=asy):\n",
      "C:\\Users\\Arka\\AppData\\Local\\Temp\\ipykernel_29632\\809161435.py:26: UserWarning: CRS mismatch between the CRS of left geometries and the CRS of right geometries.\n",
      "Use `to_crs()` to reproject one of the input geometries to match the CRS of the other.\n",
      "\n",
      "Left CRS: None\n",
      "Right CRS: EPSG:4326\n",
      "\n",
      "  complaints_with_neighborhood = gpd.sjoin(complaints_gdf, communities_gdf, how='left', op='within')\n"
     ]
    }
   ],
   "source": [
    "# Load and preprocess CSV data\n",
    "complaints_path = 'CDPH_Environmental_Complaints.csv'\n",
    "complaints_df = pd.read_csv(complaints_path)\n",
    "\n",
    "# Lowercase the 'COMPLAINT TYPE' column\n",
    "complaints_df['COMPLAINT TYPE'] = complaints_df['COMPLAINT TYPE'].str.lower()\n",
    "\n",
    "# Convert 'COMPLAINT DATE' to a datetime object and categorize decades\n",
    "complaints_df['COMPLAINT DATE'] = pd.to_datetime(complaints_df['COMPLAINT DATE'])\n",
    "complaints_df.dropna(subset=['COMPLAINT DATE'], inplace=True)\n",
    "# Extract the year from 'COMPLAINT DATE' and store it in a new column 'COMPLAINT YEAR'\n",
    "complaints_df['COMPLAINT YEAR'] = complaints_df['COMPLAINT DATE'].dt.year\n",
    "\n",
    "# Extract latitude and longitude from the 'LOCATION' column\n",
    "complaints_df['LATITUDE'] = complaints_df['LOCATION'].str.extract(r'POINT \\((.*?) (.*?)\\)')[1].astype(float)\n",
    "complaints_df['LONGITUDE'] = complaints_df['LOCATION'].str.extract(r'POINT \\((.*?) (.*?)\\)')[0].astype(float)\n",
    "\n",
    "# Load community geometries\n",
    "communities_gdf = gpd.read_file(geojson_path)\n",
    "\n",
    "# Create a GeoDataFrame with point geometries for complaints\n",
    "geometry = [Point(xy) for xy in zip(complaints_df['LONGITUDE'], complaints_df['LATITUDE'])]\n",
    "complaints_gdf = gpd.GeoDataFrame(complaints_df, geometry=geometry)\n",
    "\n",
    "# Perform a spatial join to associate complaints with neighborhoods\n",
    "complaints_with_neighborhood = gpd.sjoin(complaints_gdf, communities_gdf, how='left', op='within')\n",
    "\n",
    "complaints_df = complaints_with_neighborhood[['COMPLAINT TYPE', 'COMPLAINT YEAR', 'LATITUDE', 'LONGITUDE', 'area_num_1', 'INSPECTOR']]\n",
    "\n",
    "print(complaints_df.head(15))"
   ]
  },
  {
   "cell_type": "code",
   "execution_count": 4,
   "metadata": {},
   "outputs": [
    {
     "name": "stdout",
     "output_type": "stream",
     "text": [
      "   area_num_1        community  latitude_centroid  longitude_centroid\n",
      "0          35          DOUGLAS          41.835118          -87.618678\n",
      "1          36          OAKLAND          41.823750          -87.603216\n",
      "2          37      FULLER PARK          41.809085          -87.632425\n",
      "3          38  GRAND BOULEVARD          41.812949          -87.617860\n",
      "4          39          KENWOOD          41.808916          -87.596184\n",
      "..        ...              ...                ...                 ...\n",
      "72         74  MOUNT GREENWOOD          41.694879          -87.713192\n",
      "73         75      MORGAN PARK          41.689730          -87.669054\n",
      "74         76            OHARE          41.975684          -87.893701\n",
      "75         77        EDGEWATER          41.986712          -87.663417\n",
      "76          9      EDISON PARK          42.007613          -87.813781\n",
      "\n",
      "[77 rows x 4 columns]\n"
     ]
    },
    {
     "name": "stderr",
     "output_type": "stream",
     "text": [
      "C:\\Users\\Arka\\AppData\\Local\\Temp\\ipykernel_29632\\1798080765.py:5: UserWarning: Geometry is in a geographic CRS. Results from 'centroid' are likely incorrect. Use 'GeoSeries.to_crs()' to re-project geometries to a projected CRS before this operation.\n",
      "\n",
      "  centroids = communities_gdf['geometry'].centroid\n"
     ]
    }
   ],
   "source": [
    "communities_gdf = gpd.read_file(geojson_path)\n",
    "communities_gdf.crs = \"EPSG:4326\"\n",
    "\n",
    "# Calculate the centroids\n",
    "centroids = communities_gdf['geometry'].centroid\n",
    "\n",
    "# Extract the latitude and longitude and add them as new columns\n",
    "communities_gdf['latitude_centroid'] = centroids.y\n",
    "communities_gdf['longitude_centroid'] = centroids.x\n",
    "\n",
    "communities_gdf = communities_gdf[['area_num_1', 'community', 'latitude_centroid', 'longitude_centroid']]\n",
    "print(communities_gdf)"
   ]
  },
  {
   "cell_type": "code",
   "execution_count": 5,
   "metadata": {},
   "outputs": [
    {
     "name": "stdout",
     "output_type": "stream",
     "text": [
      "                    COMPLAINT TYPE  COMPLAINT YEAR   LATITUDE  LONGITUDE  \\\n",
      "0                  noise complaint            1994  41.882436 -87.626829   \n",
      "1         air pollution work order            2008  41.882841 -87.662404   \n",
      "2                  noise complaint            1996  41.883306 -87.627969   \n",
      "3         air pollution work order            1996  41.883341 -87.652663   \n",
      "4         air pollution work order            1995  41.909701 -87.653183   \n",
      "...                            ...             ...        ...        ...   \n",
      "57541              noise complaint            2022  41.881096 -87.641998   \n",
      "57542  construction and demolition            2023  41.699623 -87.626664   \n",
      "57543     air pollution work order            2023  41.713027 -87.557534   \n",
      "57544              noise complaint            2022  42.017369 -87.668867   \n",
      "57545  construction and demolition            2023  41.942554 -87.757848   \n",
      "\n",
      "      area_num_1 INSPECTOR        community  latitude_centroid  \\\n",
      "0             32        25             LOOP          41.878866   \n",
      "1             28       110   NEAR WEST SIDE          41.874005   \n",
      "2             32        25             LOOP          41.878866   \n",
      "3             28        25   NEAR WEST SIDE          41.874005   \n",
      "4              8        16  NEAR NORTH SIDE          41.899602   \n",
      "...          ...       ...              ...                ...   \n",
      "57541         28    417325   NEAR WEST SIDE          41.874005   \n",
      "57542         49    425726         ROSELAND          41.706590   \n",
      "57543         51     10937    SOUTH DEERING          41.690637   \n",
      "57544          1    417325      ROGERS PARK          42.009623   \n",
      "57545         15     84397     PORTAGE PARK          41.954028   \n",
      "\n",
      "       longitude_centroid  \n",
      "0              -87.625192  \n",
      "1              -87.663518  \n",
      "2              -87.625192  \n",
      "3              -87.663518  \n",
      "4              -87.633309  \n",
      "...                   ...  \n",
      "57541          -87.663518  \n",
      "57542          -87.623366  \n",
      "57543          -87.570057  \n",
      "57544          -87.670167  \n",
      "57545          -87.763400  \n",
      "\n",
      "[57432 rows x 9 columns]\n"
     ]
    }
   ],
   "source": [
    "# Merge the two dataframes on the 'area_num_1' column\n",
    "merged_df = complaints_df.merge(communities_gdf, on='area_num_1', how='left')\n",
    "\n",
    "# Print the merged dataframe\n",
    "merged_df = merged_df.dropna()\n",
    "print(merged_df)"
   ]
  },
  {
   "cell_type": "code",
   "execution_count": 6,
   "metadata": {},
   "outputs": [
    {
     "name": "stderr",
     "output_type": "stream",
     "text": [
      "C:\\Users\\Arka\\AppData\\Local\\Packages\\PythonSoftwareFoundation.Python.3.11_qbz5n2kfra8p0\\LocalCache\\local-packages\\Python311\\site-packages\\altair\\utils\\deprecation.py:65: AltairDeprecationWarning: 'selection_single' is deprecated.  Use 'selection_point'\n",
      "  warnings.warn(message, AltairDeprecationWarning, stacklevel=1)\n",
      "C:\\Users\\Arka\\AppData\\Local\\Packages\\PythonSoftwareFoundation.Python.3.11_qbz5n2kfra8p0\\LocalCache\\local-packages\\Python311\\site-packages\\altair\\vegalite\\v5\\api.py:394: AltairDeprecationWarning: The value of 'empty' should be True or False.\n",
      "  warnings.warn(\n",
      "C:\\Users\\Arka\\AppData\\Local\\Packages\\PythonSoftwareFoundation.Python.3.11_qbz5n2kfra8p0\\LocalCache\\local-packages\\Python311\\site-packages\\altair\\utils\\deprecation.py:65: AltairDeprecationWarning: 'add_selection' is deprecated. Use 'add_params' instead.\n",
      "  warnings.warn(message, AltairDeprecationWarning, stacklevel=1)\n"
     ]
    },
    {
     "data": {
      "text/html": [
       "\n",
       "<style>\n",
       "  #altair-viz-ef0259608c4a4f9ca6e63717f861b4c6.vega-embed {\n",
       "    width: 100%;\n",
       "    display: flex;\n",
       "  }\n",
       "\n",
       "  #altair-viz-ef0259608c4a4f9ca6e63717f861b4c6.vega-embed details,\n",
       "  #altair-viz-ef0259608c4a4f9ca6e63717f861b4c6.vega-embed details summary {\n",
       "    position: relative;\n",
       "  }\n",
       "</style>\n",
       "<div id=\"altair-viz-ef0259608c4a4f9ca6e63717f861b4c6\"></div>\n",
       "<script type=\"text/javascript\">\n",
       "  var VEGA_DEBUG = (typeof VEGA_DEBUG == \"undefined\") ? {} : VEGA_DEBUG;\n",
       "  (function(spec, embedOpt){\n",
       "    let outputDiv = document.currentScript.previousElementSibling;\n",
       "    if (outputDiv.id !== \"altair-viz-ef0259608c4a4f9ca6e63717f861b4c6\") {\n",
       "      outputDiv = document.getElementById(\"altair-viz-ef0259608c4a4f9ca6e63717f861b4c6\");\n",
       "    }\n",
       "    const paths = {\n",
       "      \"vega\": \"https://cdn.jsdelivr.net/npm/vega@5?noext\",\n",
       "      \"vega-lib\": \"https://cdn.jsdelivr.net/npm/vega-lib?noext\",\n",
       "      \"vega-lite\": \"https://cdn.jsdelivr.net/npm/vega-lite@5.15.1?noext\",\n",
       "      \"vega-embed\": \"https://cdn.jsdelivr.net/npm/vega-embed@6?noext\",\n",
       "    };\n",
       "\n",
       "    function maybeLoadScript(lib, version) {\n",
       "      var key = `${lib.replace(\"-\", \"\")}_version`;\n",
       "      return (VEGA_DEBUG[key] == version) ?\n",
       "        Promise.resolve(paths[lib]) :\n",
       "        new Promise(function(resolve, reject) {\n",
       "          var s = document.createElement('script');\n",
       "          document.getElementsByTagName(\"head\")[0].appendChild(s);\n",
       "          s.async = true;\n",
       "          s.onload = () => {\n",
       "            VEGA_DEBUG[key] = version;\n",
       "            return resolve(paths[lib]);\n",
       "          };\n",
       "          s.onerror = () => reject(`Error loading script: ${paths[lib]}`);\n",
       "          s.src = paths[lib];\n",
       "        });\n",
       "    }\n",
       "\n",
       "    function showError(err) {\n",
       "      outputDiv.innerHTML = `<div class=\"error\" style=\"color:red;\">${err}</div>`;\n",
       "      throw err;\n",
       "    }\n",
       "\n",
       "    function displayChart(vegaEmbed) {\n",
       "      vegaEmbed(outputDiv, spec, embedOpt)\n",
       "        .catch(err => showError(`Javascript Error: ${err.message}<br>This usually means there's a typo in your chart specification. See the javascript console for the full traceback.`));\n",
       "    }\n",
       "\n",
       "    if(typeof define === \"function\" && define.amd) {\n",
       "      requirejs.config({paths});\n",
       "      require([\"vega-embed\"], displayChart, err => showError(`Error loading script: ${err.message}`));\n",
       "    } else {\n",
       "      maybeLoadScript(\"vega\", \"5\")\n",
       "        .then(() => maybeLoadScript(\"vega-lite\", \"5.15.1\"))\n",
       "        .then(() => maybeLoadScript(\"vega-embed\", \"6\"))\n",
       "        .catch(showError)\n",
       "        .then(() => displayChart(vegaEmbed));\n",
       "    }\n",
       "  })({\"config\": {\"view\": {\"continuousWidth\": 300, \"continuousHeight\": 300}, \"legend\": {\"offset\": -180, \"orient\": \"top-right\", \"titleLimit\": 0}}, \"hconcat\": [{\"data\": {\"url\": \"altair-data-62e1f97a4cf8ead9fd0e2c6cc20ac833.json\", \"format\": {\"type\": \"json\"}}, \"mark\": {\"type\": \"circle\", \"size\": 200}, \"encoding\": {\"tooltip\": [{\"field\": \"community\", \"type\": \"nominal\"}], \"x\": {\"field\": \"longitude_centroid\", \"scale\": {\"domain\": [-87.89370075775543, -87.53490233790232]}, \"type\": \"quantitative\"}, \"y\": {\"field\": \"latitude_centroid\", \"scale\": {\"domain\": [41.66013746994187, 42.009623377988696]}, \"type\": \"quantitative\"}}, \"height\": 500, \"name\": \"view_1\", \"title\": \"Scatter Plot of Complaints by Location\", \"width\": 700}, {\"data\": {\"url\": \"altair-data-ca09fb58723661de59aa5c416ec3df76.json\", \"format\": {\"type\": \"json\"}}, \"mark\": {\"type\": \"arc\"}, \"encoding\": {\"color\": {\"field\": \"COMPLAINT TYPE\", \"legend\": {\"orient\": \"right\", \"title\": \"Category Legend\"}, \"scale\": {\"scheme\": \"category20\"}, \"type\": \"nominal\"}, \"theta\": {\"field\": \"COUNT\", \"type\": \"quantitative\"}, \"tooltip\": [{\"field\": \"COMPLAINT TYPE\", \"type\": \"nominal\"}, {\"field\": \"COUNT\", \"type\": \"quantitative\"}]}, \"height\": 400, \"title\": \"Pie Chart of Complaints\", \"transform\": [{\"filter\": {\"param\": \"param_1\", \"empty\": true}}], \"width\": 400}], \"params\": [{\"name\": \"param_1\", \"select\": {\"type\": \"point\", \"fields\": [\"latitude_centroid\", \"longitude_centroid\"], \"on\": \"click\"}, \"views\": [\"view_1\"]}], \"$schema\": \"https://vega.github.io/schema/vega-lite/v5.15.1.json\"}, {\"mode\": \"vega-lite\"});\n",
       "</script>"
      ],
      "text/plain": [
       "alt.HConcatChart(...)"
      ]
     },
     "metadata": {},
     "output_type": "display_data"
    }
   ],
   "source": [
    "import altair as alt\n",
    "\n",
    "# Calculate the minimum and maximum latitude and longitude values\n",
    "min_latitude = merged_df['latitude_centroid'].min()\n",
    "max_latitude = merged_df['latitude_centroid'].max()\n",
    "min_longitude = merged_df['longitude_centroid'].min()\n",
    "max_longitude = merged_df['longitude_centroid'].max()\n",
    "\n",
    "# Define a selection\n",
    "select_point = alt.selection_single(empty='all', on='click', fields=['latitude_centroid', 'longitude_centroid'])\n",
    "\n",
    "# Define a selection for the line chart\n",
    "select_inspector = alt.selection_single(fields=['INSPECTOR'], empty='all', on='click')\n",
    "\n",
    "# Create a scatter plot with scale limits and link the selection\n",
    "scatter_plot = alt.Chart(merged_df).mark_circle(size=200).encode(\n",
    "    x=alt.X('longitude_centroid:Q', scale=alt.Scale(domain=[min_longitude, max_longitude])),\n",
    "    y=alt.Y('latitude_centroid:Q', scale=alt.Scale(domain=[min_latitude, max_latitude])),\n",
    "    tooltip=['community:N'],\n",
    ").add_selection(\n",
    "    select_point\n",
    ").properties(\n",
    "    width=700,\n",
    "    height=500,\n",
    "    title='Scatter Plot of Complaints by Location'\n",
    ")\n",
    "\n",
    "pie_data = merged_df.groupby(['COMPLAINT TYPE', 'latitude_centroid', 'longitude_centroid'])['COMPLAINT TYPE'].count().reset_index(name='COUNT')\n",
    "\n",
    "# Define a pie chart for complaints based on the selection\n",
    "pie_chart = alt.Chart(pie_data).mark_arc().encode(\n",
    "    theta='COUNT:Q',\n",
    "    color=alt.Color('COMPLAINT TYPE:N', scale=alt.Scale(scheme='category20'), legend=alt.Legend(title='Category Legend', orient='right')),\n",
    "    tooltip=['COMPLAINT TYPE:N', 'COUNT:Q']\n",
    ").transform_filter(\n",
    "    select_point\n",
    ").properties(\n",
    "    width=400,\n",
    "    height=400,\n",
    "    title='Pie Chart of Complaints'\n",
    ")\n",
    "\n",
    "# Combine the scatter plot and pie chart and link them\n",
    "scatter_pie_chart = scatter_plot | pie_chart\n",
    "scatter_pie_chart = scatter_pie_chart.configure_legend(\n",
    "    orient='top-right',\n",
    "    titleLimit=0,\n",
    "    offset=-180,\n",
    ")\n",
    "\n",
    "# Display the chart\n",
    "scatter_pie_chart.display()\n",
    "\n",
    "with open(\"linked_charts/linked_scatter_pie/linked_scatter_pie_raw_files.json\", \"w\") as f:\n",
    "    f.write(json.dumps(scatter_pie_chart.to_dict(), indent=4))\n",
    "\n",
    "# with open(\"../JSON/linked_scatter_pie_merged_df.json\", \"w\") as f:\n",
    "#     f.write(merged_df.to_json(indent=4))\n",
    "\n",
    "# with open(\"../JSON/linked_scatter_pie_inspector_pie_data.json\", \"w\") as f:\n",
    "#     f.write(pie_data.to_json(indent=4))"
   ]
  }
 ],
 "metadata": {
  "kernelspec": {
   "display_name": "Python 3",
   "language": "python",
   "name": "python3"
  },
  "language_info": {
   "codemirror_mode": {
    "name": "ipython",
    "version": 3
   },
   "file_extension": ".py",
   "mimetype": "text/x-python",
   "name": "python",
   "nbconvert_exporter": "python",
   "pygments_lexer": "ipython3",
   "version": "3.11.6"
  }
 },
 "nbformat": 4,
 "nbformat_minor": 2
}
